{
  "nbformat": 4,
  "nbformat_minor": 0,
  "metadata": {
    "colab": {
      "provenance": []
    },
    "kernelspec": {
      "name": "python3",
      "display_name": "Python 3"
    },
    "language_info": {
      "name": "python"
    }
  },
  "cells": [
    {
      "cell_type": "code",
      "execution_count": 16,
      "metadata": {
        "colab": {
          "base_uri": "https://localhost:8080/"
        },
        "id": "-QLn8kAgR_k0",
        "outputId": "c206c912-53e1-4f0b-9c80-e3bebf90897d"
      },
      "outputs": [
        {
          "output_type": "stream",
          "name": "stdout",
          "text": [
            "liters needed: 41.3\n"
          ]
        }
      ],
      "source": [
        "#Section 1: Numerical Data Types & Arithmetic Operators\n",
        "\n",
        "#Given data\n",
        "car_fuel_efficiency = 11.5 #kilometers per liter\n",
        "total_distance = 475 #kilometers\n",
        "fuel_price = 1.65 #per liter\n",
        "car_tank_capacity = 50 #liters\n",
        "\n",
        "#A. How many liters of fuel will you need for the entire trip?\n",
        "liters_needed = total_distance/car_fuel_efficiency\n",
        "print(\"liters needed:\", round(liters_needed, 2))\n",
        "\n",
        "#To determine the fuel needed for the entire trip we divide the total distance by the car's fuel efficiency. We also round two decimal places for better presentation of the results."
      ]
    },
    {
      "cell_type": "code",
      "source": [
        "#B. How many full tanks of fuel does this represent? (Use an operator that gives you the whole number of tanks)\n",
        "full_tanks = liters_needed//car_tank_capacity\n",
        "print(\"full tanks needed:\", int(full_tanks))\n",
        "\n",
        "#To calculate how many complete full tanks are needed we divide the total liters needed based on the tank capacity and\n",
        "#then use floor division to get a whole number. The exact result here is 0.826, but is showing us 0 because we requested the whole number (excluding partial)."
      ],
      "metadata": {
        "colab": {
          "base_uri": "https://localhost:8080/"
        },
        "id": "8rwM4IMvZTDy",
        "outputId": "54b43dcb-e6a4-4aa5-e8d4-2365ad1e10ed"
      },
      "execution_count": 11,
      "outputs": [
        {
          "output_type": "stream",
          "name": "stdout",
          "text": [
            "full tanks needed: 0\n"
          ]
        }
      ]
    },
    {
      "cell_type": "code",
      "source": [
        "#C. What is the total estimated fuel cost for the trip (based on the fuel needed)?\n",
        "total_cost=liters_needed*fuel_price\n",
        "print(\"Estimated fuel cost: $\", round(total_cost, 2))\n",
        "\n",
        "#To calculate the estimated fuel cost for the trip we multiply the litters needed by the price per liter. We also round two decimal places for better presentation of the results."
      ],
      "metadata": {
        "colab": {
          "base_uri": "https://localhost:8080/"
        },
        "id": "tIe0aC5FdSio",
        "outputId": "46d7a0da-69d3-489d-9ecd-72bdba40e053"
      },
      "execution_count": 13,
      "outputs": [
        {
          "output_type": "stream",
          "name": "stdout",
          "text": [
            "Estimated fuel cost: $ 68.15\n"
          ]
        }
      ]
    },
    {
      "cell_type": "code",
      "source": [
        "#D. After completing the trip, how many liters of fuel will be remaining in your tank if you started full and only refueled the exact amount needed?\n",
        "fuel_used_from_last_tank = liters_needed%car_tank_capacity\n",
        "liters_remaining = car_tank_capacity - fuel_used_from_last_tank\n",
        "print(\"Liters remaining in tank:\", round(liters_remaining, 2))\n",
        "\n",
        "#First we calculate the fuel used from last tank, which value is 41.3. Then, we calculate the remaining fuel from the initial full tank."
      ],
      "metadata": {
        "colab": {
          "base_uri": "https://localhost:8080/"
        },
        "id": "6iDZLGJVdW4X",
        "outputId": "dc02ec4d-aeac-433e-8373-fc38e12d39f6"
      },
      "execution_count": 19,
      "outputs": [
        {
          "output_type": "stream",
          "name": "stdout",
          "text": [
            "Liters remaining in tank: 8.7\n"
          ]
        }
      ]
    },
    {
      "cell_type": "code",
      "source": [
        "#Section 2: Comparison & Logical Operators\n",
        "\n",
        "#Given data\n",
        "age = 30\n",
        "is_weekday = True\n",
        "is_family_day = False\n",
        "group_size = 3\n",
        "\n",
        "#A. Write a single, comprehensive Python boolean expression that evaluates to True if a person with the current variable values qualifies for a discount, and False otherwise.\n",
        "discount = ((age <= 12 and is_weekday) or (age >= 65) or (is_family_day and group_size >= 4))\n",
        "print(\"Discount applicable:\", discount)\n",
        "\n",
        "#The result is False because the person doesn't qualify because is not 12 or younger, is not 65 or older and is not a group of at least 4."
      ],
      "metadata": {
        "colab": {
          "base_uri": "https://localhost:8080/"
        },
        "id": "sGMc2GNHgHbJ",
        "outputId": "6c8f4621-5ed9-4af0-95dc-038afd0f247a"
      },
      "execution_count": 22,
      "outputs": [
        {
          "output_type": "stream",
          "name": "stdout",
          "text": [
            "Discount applicable: False\n"
          ]
        }
      ]
    },
    {
      "cell_type": "code",
      "source": [
        "#B. Now we change the variables and evaluate the boolean expression from part (a) with these new values.\n",
        "age = 10\n",
        "is_weekday = True\n",
        "is_family_day = False\n",
        "group_size = 2\n",
        "\n",
        "discount = ((age <= 12 and is_weekday) or (age >= 65) or (is_family_day and group_size >= 4))\n",
        "print(\"Discount applicable:\", discount)\n",
        "\n",
        "#The result is True because the first condition is met: 10 years old child on a weekday."
      ],
      "metadata": {
        "colab": {
          "base_uri": "https://localhost:8080/"
        },
        "id": "q9XBrPTXive5",
        "outputId": "22f922da-2ca1-4c8d-b4de-66c6d6a53cda"
      },
      "execution_count": 21,
      "outputs": [
        {
          "output_type": "stream",
          "name": "stdout",
          "text": [
            "Discount applicable: True\n"
          ]
        }
      ]
    },
    {
      "cell_type": "code",
      "source": [
        "#C. For the scenario in part (b), explain step-by-step how Python evaluates your boolean expression. Describe the result of each comparison and how the and/or operators combine these results to reach the final answer.\n",
        "\n",
        "#age <= 12 → True\n",
        "#is_weekday → True\n",
        "#First condition (True and True) → True\n",
        "#Second condition (age >= 65) → False\n",
        "#Third condition (False and group_size >= 4) → False\n",
        "#Final result: True or False or False → True\n"
      ],
      "metadata": {
        "id": "Vudqlc6Wj_zp"
      },
      "execution_count": null,
      "outputs": []
    },
    {
      "cell_type": "code",
      "source": [
        "#Section 3: String Data Types, Indexing & Slicing\n",
        "\n",
        "secret_message = \"PyThoN_Is_FuN_AnD_PoWeRfUl!\"\n",
        "\n",
        "#A. What is the character at index 5 of secret_message?\n",
        "print(\"Character at index 5:\", secret_message[5])\n",
        "\n",
        "#The result is N because indexing starts from 0."
      ],
      "metadata": {
        "colab": {
          "base_uri": "https://localhost:8080/"
        },
        "id": "YHH6Ya98lTxe",
        "outputId": "79d59ea6-5ad0-44d3-bb2e-6ddefd5d023d"
      },
      "execution_count": 23,
      "outputs": [
        {
          "output_type": "stream",
          "name": "stdout",
          "text": [
            "Character at index 5: N\n"
          ]
        }
      ]
    },
    {
      "cell_type": "code",
      "source": [
        "#B. Using positive indexing and slicing, extract the substring \"Is_FuN\".\n",
        "\n",
        "substring1 = secret_message[7:13]\n",
        "print(\"Substring 1:\", substring1)\n",
        "\n",
        "#We slice from index 7 to 13."
      ],
      "metadata": {
        "colab": {
          "base_uri": "https://localhost:8080/"
        },
        "id": "if7xi6v0m2_H",
        "outputId": "3845672b-2bd6-4d99-deb1-7fb27924aa22"
      },
      "execution_count": 28,
      "outputs": [
        {
          "output_type": "stream",
          "name": "stdout",
          "text": [
            "Substring 1: Is_FuN\n"
          ]
        }
      ]
    },
    {
      "cell_type": "code",
      "source": [
        "#C. Using negative indexing and slicing, extract the substring \"PoWeRfUl\".\n",
        "\n",
        "substring2 = secret_message[-9:-1]\n",
        "print(\"Substring 2:\", substring2)\n",
        "\n",
        "#We count backward."
      ],
      "metadata": {
        "colab": {
          "base_uri": "https://localhost:8080/"
        },
        "id": "95SXUg2Qm3HH",
        "outputId": "765b563b-d788-4553-a366-9ce6e3c9d47d"
      },
      "execution_count": 30,
      "outputs": [
        {
          "output_type": "stream",
          "name": "stdout",
          "text": [
            "Substring 2: PoWeRfUl\n"
          ]
        }
      ]
    },
    {
      "cell_type": "code",
      "source": [
        "#D. Create a new string that consists of every 4th character of secret_message, starting from the first character (index 0)\n",
        "\n",
        "every_4th = secret_message[::4]\n",
        "print(\"Every 4th character:\", every_4th)\n",
        "\n",
        "#This collects every fourth character starting at index 0."
      ],
      "metadata": {
        "colab": {
          "base_uri": "https://localhost:8080/"
        },
        "id": "NM856k8QnkfO",
        "outputId": "76e310f4-b84b-4b46-b2be-d677eec8cf29"
      },
      "execution_count": 31,
      "outputs": [
        {
          "output_type": "stream",
          "name": "stdout",
          "text": [
            "Every 4th character: PosNDWU\n"
          ]
        }
      ]
    },
    {
      "cell_type": "code",
      "source": [
        "#E. If you try to access secret_message[50], what happens?\n",
        "\n",
        "#Accessing index 50 causes an IndexError because it exceeds the string length. Strings in Python are zero-indexed and go from 0 to len(string) - 1."
      ],
      "metadata": {
        "id": "lzgFcwQBn3Vu"
      },
      "execution_count": 33,
      "outputs": []
    },
    {
      "cell_type": "code",
      "source": [
        "#Section 4: Boolean Values & Expressions\n",
        "\n",
        "#Given data\n",
        "x = 15\n",
        "y = 25\n",
        "z = 15\n",
        "text = \"adventure\"\n",
        "\n",
        "#For each boolean expression below: Predict whether the expression will evaluate to True or False before running it, write down the Python expression, state the actual result Python gives, and if your prediction was incorrect, briefly explain what you misunderstood.\n",
        "\n",
        "#A. (x == z) and (y > x)\n",
        "\n",
        "print((x == z) and (y > x)) #prediction True\n"
      ],
      "metadata": {
        "colab": {
          "base_uri": "https://localhost:8080/"
        },
        "id": "pN2UtcXfooUr",
        "outputId": "35d91e46-2986-4955-9e08-4168eef700bb"
      },
      "execution_count": 34,
      "outputs": [
        {
          "output_type": "stream",
          "name": "stdout",
          "text": [
            "True\n"
          ]
        }
      ]
    },
    {
      "cell_type": "code",
      "source": [
        "#B. (x != z) or (y < x) or (len(text) < 5)\n",
        "\n",
        "print((x != z) or (y < x) or (len(text) < 5)) #prediction False"
      ],
      "metadata": {
        "colab": {
          "base_uri": "https://localhost:8080/"
        },
        "id": "WU9f6nAfqG6D",
        "outputId": "ceec324c-41bf-4252-dba8-f34a0186770e"
      },
      "execution_count": 36,
      "outputs": [
        {
          "output_type": "stream",
          "name": "stdout",
          "text": [
            "False\n"
          ]
        }
      ]
    },
    {
      "cell_type": "code",
      "source": [
        "#C. not ((x > y) and (text == \"Adventure\"))\n",
        "\n",
        "print(not ((x > y) and (text == \"Adventure\"))) #prediction True; strings are case-sensitive"
      ],
      "metadata": {
        "colab": {
          "base_uri": "https://localhost:8080/"
        },
        "id": "kKqqC4voqP4m",
        "outputId": "59b035e1-2746-4e9e-da17-67832b33cec0"
      },
      "execution_count": 37,
      "outputs": [
        {
          "output_type": "stream",
          "name": "stdout",
          "text": [
            "True\n"
          ]
        }
      ]
    },
    {
      "cell_type": "code",
      "source": [
        "#Section 5: String Properties & Basic Methods\n",
        "\n",
        "#A. A user tries to set their username: username = \"MyUser123\". Later, they want to change the first letter to lowercase directly: username[0] = 'm'. What happens when this code is executed?\n",
        "\n",
        "#TypeError: strings are immutable in Python, meaning individual characters cannot be modified."
      ],
      "metadata": {
        "id": "f2hX0PdBq406"
      },
      "execution_count": null,
      "outputs": []
    },
    {
      "cell_type": "code",
      "source": [
        "#B. Another user provides their favorite quote: quote = \" practice makes perfect \" Write Python code to perform the following transformations on this quote (apply them sequentially):\n",
        "\n",
        "quote = \" practice makes perfect \"\n",
        "formatted_quote = quote.strip().upper().replace(\"PERFECT\", \"PROGRESS\")\n",
        "print(\"Formatted quote:\", formatted_quote)\n",
        "\n",
        "#strip() removes leading/trailing whitespace\n",
        "#upper() converts all letters to uppercase\n",
        "#replace() replaces \"PERFECT\" with \"PROGRESS\"\n"
      ],
      "metadata": {
        "colab": {
          "base_uri": "https://localhost:8080/"
        },
        "id": "F3Uyx_0aq4-J",
        "outputId": "92725e68-e456-4fae-925d-4f6efc05d21d"
      },
      "execution_count": 2,
      "outputs": [
        {
          "output_type": "stream",
          "name": "stdout",
          "text": [
            "Formatted quote: PRACTICE MAKES PROGRESS\n"
          ]
        }
      ]
    },
    {
      "cell_type": "code",
      "source": [
        "#C. What is the length of the original quote (including spaces) and the length of the formatted_quote? Show how you would find this using Python.\n",
        "\n",
        "original_length = len(quote)\n",
        "formatted_length = len(formatted_quote)\n",
        "\n",
        "print(\"Original length:\", original_length)\n",
        "print(\"Formatted length:\", formatted_length)\n",
        "\n",
        "#len(quote) includes spaces: len(quote) = 1 (space) + 22 (text) + 1 (space) = 24\n",
        "#len(formatted_quote) excludes outer spaces: \"PRACTICE\"→ 8 letters + \"MAKES\"→ 5 letters + \"PROGRESS\"→ 8 letters + Spaces between words → 2 = 23"
      ],
      "metadata": {
        "colab": {
          "base_uri": "https://localhost:8080/"
        },
        "id": "YqGPk4ODq5GJ",
        "outputId": "11802a7e-1fd2-448b-f39c-cc69ee4e5832"
      },
      "execution_count": 3,
      "outputs": [
        {
          "output_type": "stream",
          "name": "stdout",
          "text": [
            "Original length: 24\n",
            "Formatted length: 23\n"
          ]
        }
      ]
    }
  ]
}