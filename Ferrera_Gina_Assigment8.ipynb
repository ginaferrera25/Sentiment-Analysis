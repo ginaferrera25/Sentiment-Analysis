{
  "nbformat": 4,
  "nbformat_minor": 0,
  "metadata": {
    "colab": {
      "provenance": []
    },
    "kernelspec": {
      "name": "python3",
      "display_name": "Python 3"
    },
    "language_info": {
      "name": "python"
    }
  },
  "cells": [
    {
      "cell_type": "code",
      "execution_count": 2,
      "metadata": {
        "colab": {
          "base_uri": "https://localhost:8080/"
        },
        "id": "O-bild8tctT4",
        "outputId": "74be3897-312d-4ace-bada-3e4cf3e95b15"
      },
      "outputs": [
        {
          "output_type": "stream",
          "name": "stderr",
          "text": [
            "[nltk_data] Downloading package punkt to /root/nltk_data...\n",
            "[nltk_data]   Unzipping tokenizers/punkt.zip.\n",
            "[nltk_data] Downloading package stopwords to /root/nltk_data...\n",
            "[nltk_data]   Unzipping corpora/stopwords.zip.\n",
            "[nltk_data] Downloading package wordnet to /root/nltk_data...\n",
            "[nltk_data] Downloading package averaged_perceptron_tagger to\n",
            "[nltk_data]     /root/nltk_data...\n",
            "[nltk_data]   Unzipping taggers/averaged_perceptron_tagger.zip.\n",
            "[nltk_data] Downloading package punkt_tab to /root/nltk_data...\n",
            "[nltk_data]   Unzipping tokenizers/punkt_tab.zip.\n",
            "[nltk_data] Downloading package averaged_perceptron_tagger_eng to\n",
            "[nltk_data]     /root/nltk_data...\n",
            "[nltk_data]   Unzipping taggers/averaged_perceptron_tagger_eng.zip.\n"
          ]
        }
      ],
      "source": [
        "import pandas as pd\n",
        "import re\n",
        "import nltk\n",
        "import spacy\n",
        "import matplotlib.pyplot as plt\n",
        "from collections import Counter\n",
        "\n",
        "nltk.download('punkt')\n",
        "nltk.download('stopwords')\n",
        "nltk.download('wordnet')\n",
        "nltk.download('averaged_perceptron_tagger')\n",
        "nltk.download('punkt_tab')\n",
        "nltk.download('averaged_perceptron_tagger_eng')\n",
        "\n",
        "\n",
        "from nltk.corpus import stopwords\n",
        "from nltk.tokenize import word_tokenize, sent_tokenize\n",
        "from nltk.stem import PorterStemmer, WordNetLemmatizer\n",
        "\n",
        "nlp = spacy.load(\"en_core_web_sm\")"
      ]
    },
    {
      "cell_type": "code",
      "source": [
        "#Load the dataset\n",
        "df = pd.read_csv(\"spam.csv\", encoding='latin-1')\n",
        "df = df[['v1', 'v2']]\n",
        "df.columns = ['label', 'message']\n",
        "\n",
        "print(\"Dataset loaded. Shape:\", df.shape)\n",
        "print(df.head())\n"
      ],
      "metadata": {
        "colab": {
          "base_uri": "https://localhost:8080/"
        },
        "id": "tLzg0qMTiHiT",
        "outputId": "8d0f59c9-5bbe-40f6-9a88-38e7f466b6ef"
      },
      "execution_count": 4,
      "outputs": [
        {
          "output_type": "stream",
          "name": "stdout",
          "text": [
            "Dataset loaded. Shape: (5572, 2)\n",
            "  label                                            message\n",
            "0   ham  Go until jurong point, crazy.. Available only ...\n",
            "1   ham                      Ok lar... Joking wif u oni...\n",
            "2  spam  Free entry in 2 a wkly comp to win FA Cup fina...\n",
            "3   ham  U dun say so early hor... U c already then say...\n",
            "4   ham  Nah I don't think he goes to usf, he lives aro...\n"
          ]
        }
      ]
    },
    {
      "cell_type": "code",
      "source": [
        "#Basic text cleaning\n",
        "def clean_text(text):\n",
        "    text = text.lower()                           # lowercase\n",
        "    text = re.sub(r'[^\\w\\s]', '', text)           # remove punctuation\n",
        "    text = re.sub(r'\\d+', '', text)               # remove digits\n",
        "    text = re.sub(r'\\s+', ' ', text).strip()      # remove extra spaces\n",
        "    return text\n"
      ],
      "metadata": {
        "id": "7pEiTUkyiHbx"
      },
      "execution_count": 5,
      "outputs": []
    },
    {
      "cell_type": "code",
      "source": [
        "  df['clean_message'] = df['message'].apply(clean_text)\n",
        "\n",
        "print(\"\\n🔹 Example before and after cleaning:\")\n",
        "print(\"Original:\", df['message'][0])\n",
        "print(\"Cleaned :\", df['clean_message'][0])\n"
      ],
      "metadata": {
        "colab": {
          "base_uri": "https://localhost:8080/"
        },
        "id": "CR1oRdEhiHEa",
        "outputId": "1af14dd7-6cab-458a-c523-2ffc102f51e1"
      },
      "execution_count": 6,
      "outputs": [
        {
          "output_type": "stream",
          "name": "stdout",
          "text": [
            "\n",
            "🔹 Example before and after cleaning:\n",
            "Original: Go until jurong point, crazy.. Available only in bugis n great world la e buffet... Cine there got amore wat...\n",
            "Cleaned : go until jurong point crazy available only in bugis n great world la e buffet cine there got amore wat\n"
          ]
        }
      ]
    },
    {
      "cell_type": "code",
      "source": [
        "#Tokenitazion\n",
        "\n",
        "sample_text = df['clean_message'][0]"
      ],
      "metadata": {
        "id": "YU1XK-cWiG8C"
      },
      "execution_count": 7,
      "outputs": []
    },
    {
      "cell_type": "code",
      "source": [
        "sent_tokens = sent_tokenize(sample_text)\n",
        "word_tokens = word_tokenize(sample_text)\n",
        "\n",
        "print(\"Sentence tokens:\", sent_tokens)\n",
        "print(\"Word tokens:\", word_tokens)"
      ],
      "metadata": {
        "colab": {
          "base_uri": "https://localhost:8080/"
        },
        "id": "tr3bBJoriG5E",
        "outputId": "c9728c67-408b-4d7d-a74b-4f81966ca3bd"
      },
      "execution_count": 8,
      "outputs": [
        {
          "output_type": "stream",
          "name": "stdout",
          "text": [
            "Sentence tokens: ['go until jurong point crazy available only in bugis n great world la e buffet cine there got amore wat']\n",
            "Word tokens: ['go', 'until', 'jurong', 'point', 'crazy', 'available', 'only', 'in', 'bugis', 'n', 'great', 'world', 'la', 'e', 'buffet', 'cine', 'there', 'got', 'amore', 'wat']\n"
          ]
        }
      ]
    },
    {
      "cell_type": "code",
      "source": [
        "#Stopword removal\n",
        "stop_words = set(stopwords.words('english'))\n",
        "filtered_tokens = [w for w in word_tokens if w not in stop_words]\n",
        "\n",
        "print(\"Word count before stopword removal:\", len(word_tokens))\n",
        "print(\"Word count after stopword removal :\", len(filtered_tokens))\n",
        "print(\"Words after removal:\", filtered_tokens)"
      ],
      "metadata": {
        "colab": {
          "base_uri": "https://localhost:8080/"
        },
        "id": "VazaN9EuiG18",
        "outputId": "d9f3d945-7c3b-409f-d68d-0a3d585839a5"
      },
      "execution_count": 9,
      "outputs": [
        {
          "output_type": "stream",
          "name": "stdout",
          "text": [
            "Word count before stopword removal: 20\n",
            "Word count after stopword removal : 16\n",
            "Words after removal: ['go', 'jurong', 'point', 'crazy', 'available', 'bugis', 'n', 'great', 'world', 'la', 'e', 'buffet', 'cine', 'got', 'amore', 'wat']\n"
          ]
        }
      ]
    },
    {
      "cell_type": "code",
      "source": [
        "#Stemming and lemmatization\n",
        "stemmer = PorterStemmer()\n",
        "lemmatizer = WordNetLemmatizer()\n",
        "\n",
        "#Picking 10 words from the first message\n",
        "words_to_test = word_tokens[:10]\n",
        "\n",
        "print(\"Stemming vs Lemmatization (comparison):\")\n",
        "for w in words_to_test:\n",
        "    print(f\"{w} -> Stem: {stemmer.stem(w)}, Lemma: {lemmatizer.lemmatize(w)}\")\n",
        "\n",
        "print(\"Note: Lemmatization keeps words more readable, while stemming can cut them too much.\")"
      ],
      "metadata": {
        "colab": {
          "base_uri": "https://localhost:8080/"
        },
        "id": "02774CqmjeX0",
        "outputId": "f69707a4-62ed-42b2-ed9b-c93f0dd62c1e"
      },
      "execution_count": 10,
      "outputs": [
        {
          "output_type": "stream",
          "name": "stdout",
          "text": [
            "Stemming vs Lemmatization (comparison):\n",
            "go -> Stem: go, Lemma: go\n",
            "until -> Stem: until, Lemma: until\n",
            "jurong -> Stem: jurong, Lemma: jurong\n",
            "point -> Stem: point, Lemma: point\n",
            "crazy -> Stem: crazi, Lemma: crazy\n",
            "available -> Stem: avail, Lemma: available\n",
            "only -> Stem: onli, Lemma: only\n",
            "in -> Stem: in, Lemma: in\n",
            "bugis -> Stem: bugi, Lemma: bugis\n",
            "n -> Stem: n, Lemma: n\n",
            "Note: Lemmatization keeps words more readable, while stemming can cut them too much.\n"
          ]
        }
      ]
    },
    {
      "cell_type": "code",
      "source": [
        "#POS Tagging\n",
        "\n",
        "pos_tags = nltk.pos_tag(word_tokens)\n",
        "print(\"POS tagging example:\", pos_tags)"
      ],
      "metadata": {
        "colab": {
          "base_uri": "https://localhost:8080/"
        },
        "id": "i0NzH1OyjeUr",
        "outputId": "fd63e3c0-272b-4758-9f3f-eedad28f40e4"
      },
      "execution_count": 11,
      "outputs": [
        {
          "output_type": "stream",
          "name": "stdout",
          "text": [
            "POS tagging example: [('go', 'VB'), ('until', 'IN'), ('jurong', 'JJ'), ('point', 'NN'), ('crazy', 'NN'), ('available', 'JJ'), ('only', 'RB'), ('in', 'IN'), ('bugis', 'NN'), ('n', 'RB'), ('great', 'JJ'), ('world', 'NN'), ('la', 'NN'), ('e', 'VBP'), ('buffet', 'JJ'), ('cine', 'NN'), ('there', 'EX'), ('got', 'VBD'), ('amore', 'RB'), ('wat', 'JJ')]\n"
          ]
        }
      ]
    },
    {
      "cell_type": "code",
      "source": [
        "pos_counts = Counter(tag for word, tag in pos_tags)"
      ],
      "metadata": {
        "id": "7yeq-OfhtJHB"
      },
      "execution_count": 12,
      "outputs": []
    },
    {
      "cell_type": "code",
      "source": [
        "plt.figure(figsize=(8,5))\n",
        "plt.bar(pos_counts.keys(), pos_counts.values(), color='skyblue')\n",
        "plt.title(\"POS Tag Frequency (Sample Text)\")\n",
        "plt.xlabel(\"POS Tags\")\n",
        "plt.ylabel(\"Count\")\n",
        "plt.show()\n"
      ],
      "metadata": {
        "colab": {
          "base_uri": "https://localhost:8080/",
          "height": 487
        },
        "id": "imj9s4qStJEK",
        "outputId": "620394c8-8e08-4f1e-f545-d453287e4db5"
      },
      "execution_count": 13,
      "outputs": [
        {
          "output_type": "display_data",
          "data": {
            "text/plain": [
              "<Figure size 800x500 with 1 Axes>"
            ],
            "image/png": "[encoded data removed]"
          },
          "metadata": {}
        }
      ]
    },
    {
      "cell_type": "code",
      "source": [
        "# Named Entity Recognition (NER)\n",
        "doc = nlp(sample_text)\n",
        "print(\"\\nNamed Entities found:\")\n",
        "for ent in doc.ents:\n",
        "    print(ent.text, \"->\", ent.label_)"
      ],
      "metadata": {
        "colab": {
          "base_uri": "https://localhost:8080/"
        },
        "id": "uHVgXPrOtJBC",
        "outputId": "6125ff7f-6bc2-44ed-decc-f962d2195b67"
      },
      "execution_count": 18,
      "outputs": [
        {
          "output_type": "stream",
          "name": "stdout",
          "text": [
            "\n",
            "Named Entities found:\n"
          ]
        }
      ]
    },
    {
      "cell_type": "code",
      "source": [
        "#Visualize entities with displacy\n",
        "from spacy import displacy\n",
        "displacy.render(doc, style=\"ent\")"
      ],
      "metadata": {
        "colab": {
          "base_uri": "https://localhost:8080/",
          "height": 107
        },
        "id": "U8Ixb3A_tWxB",
        "outputId": "c41d6167-3f21-4552-e023-8a4313db451f"
      },
      "execution_count": 19,
      "outputs": [
        {
          "output_type": "stream",
          "name": "stderr",
          "text": [
            "/usr/local/lib/python3.11/dist-packages/spacy/displacy/__init__.py:213: UserWarning: [W006] No entities to visualize found in Doc object. If this is surprising to you, make sure the Doc was processed using a model that supports named entity recognition, and check the `doc.ents` property manually if necessary.\n",
            "  warnings.warn(Warnings.W006)\n"
          ]
        },
        {
          "output_type": "display_data",
          "data": {
            "text/plain": [
              "<IPython.core.display.HTML object>"
            ],
            "text/html": [
              "<span class=\"tex2jax_ignore\"><div class=\"entities\" style=\"line-height: 2.5; direction: ltr\">go until jurong point crazy available only in bugis n great world la e buffet cine there got amore wat</div></span>"
            ]
          },
          "metadata": {}
        }
      ]
    },
    {
      "cell_type": "code",
      "source": [],
      "metadata": {
        "id": "GNbVm-EDtWti"
      },
      "execution_count": null,
      "outputs": []
    }
  ]
}